{
 "cells": [
  {
   "cell_type": "code",
   "execution_count": 1,
   "id": "outstanding-amplifier",
   "metadata": {},
   "outputs": [],
   "source": [
    "import libm2k\n",
    "import matplotlib.pyplot as plt\n",
    "import time\n",
    "import numpy as np\n",
    "import resampy\n",
    "from scipy.io import wavfile"
   ]
  },
  {
   "cell_type": "code",
   "execution_count": 2,
   "id": "retained-alberta",
   "metadata": {},
   "outputs": [],
   "source": [
    "\n",
    "SAMP_RATE = 10000\n",
    "TIME = 3\n",
    "NUM_SAMPLES = int(SAMP_RATE * TIME)\n",
    "AUDIO_RATE = 44100\n",
    "\n",
    "signal_good = np.array([0, 0, 0])"
   ]
  },
  {
   "cell_type": "code",
   "execution_count": 16,
   "id": "strong-singapore",
   "metadata": {},
   "outputs": [
    {
     "data": {
      "text/plain": [
       "[<matplotlib.lines.Line2D at 0x7f5f849c6ee0>]"
      ]
     },
     "execution_count": 16,
     "metadata": {},
     "output_type": "execute_result"
    },
    {
     "data": {
      "image/png": "[encoded data removed]",
      "text/plain": [
       "<Figure size 432x288 with 1 Axes>"
      ]
     },
     "metadata": {
      "needs_background": "light"
     },
     "output_type": "display_data"
    }
   ],
   "source": [
    "skrate, signal_keep = wavfile.read(\"okgoogle-time.wav\")\n",
    "signal_keep = signal_keep[len(signal_keep) // 25:]\n",
    "\n",
    "#signal_keep = resampy.resample(signal_keep, skrate, 7500)\n",
    "signal_keep = signal_keep.astype(np.float32)\n",
    "\n",
    "m = np.mean(signal_keep)\n",
    "sd = np.std(signal_keep)\n",
    "\n",
    "SS = 1.5\n",
    "\n",
    "signal_keep[signal_keep > (m + SS*sd)] = m + SS*sd\n",
    "signal_keep[signal_keep < (m - SS*sd)] = m - SS*sd\n",
    "\n",
    "signal_keep = signal_keep / (SS * sd)\n",
    "signal_keep = (signal_keep + 1.0) / 2\n",
    "signal_keep = (signal_keep*5.0)\n",
    "\n",
    "wavfile.write(\"test.wav\", 7500, signal_keep.astype(np.float32) - 2.5)\n",
    "\n",
    "plt.plot(signal_keep)"
   ]
  },
  {
   "cell_type": "code",
   "execution_count": 18,
   "id": "acute-mexico",
   "metadata": {},
   "outputs": [
    {
     "name": "stdout",
     "output_type": "stream",
     "text": [
      "19.733333333333334\n"
     ]
    }
   ],
   "source": [
    "ctx=libm2k.m2kOpen()\n",
    "\n",
    "ctx.calibrateADC()\n",
    "ctx.calibrateDAC()\n",
    "\n",
    "ain=ctx.getAnalogIn()\n",
    "aout=ctx.getAnalogOut()\n",
    "trig=ain.getTrigger()\n",
    "\n",
    "# Initialize power supply\n",
    "ps = ctx.getPowerSupply()\n",
    "ps.enableChannel(0,True)\n",
    "ps.pushChannel(0,3.3)\n",
    "\n",
    "FREQ = 200\n",
    "\n",
    "aout.setSampleRate(0, 7500)\n",
    "aout.enableChannel(0, True)\n",
    "\n",
    "x = np.linspace(-np.pi, np.pi, int(7500 / FREQ))\n",
    "x = x.tolist() * 4000\n",
    "x = np.array(x, dtype=np.float64)\n",
    "print(len(x) / 7500)\n",
    "buffer2 = 2.5 + (np.sin(x)*2.5)\n",
    "\n",
    "aout.setCyclic(True)\n",
    "aout.push([signal_keep.astype(np.float64)])"
   ]
  },
  {
   "cell_type": "code",
   "execution_count": 26,
   "id": "removable-stupid",
   "metadata": {},
   "outputs": [],
   "source": [
    "ain.enableChannel(0, True)\n",
    "ain.setSampleRate(SAMP_RATE)\n",
    "ain.setRange(0, 0, 4)\n",
    "\n",
    "signal = np.array(ain.getSamples(int(SAMP_RATE * 10.0))[0])\n",
    "signal = (signal - np.mean(signal)) * 5\n",
    "\n",
    "signal = resampy.resample(signal, SAMP_RATE, AUDIO_RATE)\n",
    "signal = signal.astype(np.float32)\n",
    "\n",
    "\n",
    "wavfile.write(\"test.wav\", AUDIO_RATE, signal)"
   ]
  },
  {
   "cell_type": "code",
   "execution_count": 24,
   "id": "written-portrait",
   "metadata": {},
   "outputs": [
    {
     "name": "stdout",
     "output_type": "stream",
     "text": [
      "(10000, 1)\n",
      "(10000, 1)\n",
      "(10000, 1)\n",
      "(10000, 1)\n",
      "(10000, 1)\n",
      "(10000, 1)\n",
      "(10000, 1)\n",
      "(10000, 1)\n",
      "(10000, 1)\n",
      "(10000, 1)\n",
      "(10000, 1)\n",
      "(10000, 1)\n",
      "(10000, 1)\n",
      "(10000, 1)\n",
      "(10000, 1)\n",
      "(10000, 1)\n",
      "(10000, 1)\n",
      "(10000, 1)\n",
      "(10000, 1)\n",
      "(10000, 1)\n",
      "(10000, 1)\n",
      "(10000, 1)\n",
      "(10000, 1)\n",
      "(10000, 1)\n",
      "(10000, 1)\n",
      "(10000, 1)\n",
      "(10000, 1)\n",
      "(10000, 1)\n",
      "(10000, 1)\n",
      "(10000, 1)\n",
      "(10000, 1)\n",
      "(10000, 1)\n",
      "(10000, 1)\n",
      "(10000, 1)\n",
      "(10000, 1)\n",
      "(10000, 1)\n",
      "(10000, 1)\n",
      "(10000, 1)\n",
      "(10000, 1)\n",
      "(10000, 1)\n",
      "(10000, 1)\n",
      "(10000, 1)\n",
      "(10000, 1)\n",
      "(10000, 1)\n",
      "(10000, 1)\n",
      "(10000, 1)\n",
      "(10000, 1)\n",
      "(10000, 1)\n",
      "(10000, 1)\n",
      "(10000, 1)\n",
      "(10000, 1)\n",
      "(10000, 1)\n",
      "(10000, 1)\n",
      "(10000, 1)\n",
      "(10000, 1)\n",
      "(10000, 1)\n",
      "(10000, 1)\n",
      "(10000, 1)\n",
      "(10000, 1)\n",
      "(10000, 1)\n",
      "(10000, 1)\n",
      "(10000, 1)\n",
      "(10000, 1)\n",
      "(10000, 1)\n",
      "(10000, 1)\n",
      "(10000, 1)\n",
      "(10000, 1)\n",
      "(10000, 1)\n",
      "(10000, 1)\n",
      "(10000, 1)\n",
      "(10000, 1)\n",
      "(10000, 1)\n",
      "(10000, 1)\n",
      "(10000, 1)\n",
      "(10000, 1)\n",
      "(10000, 1)\n",
      "(10000, 1)\n",
      "(10000, 1)\n",
      "(10000, 1)\n",
      "(10000, 1)\n",
      "(10000, 1)\n",
      "(10000, 1)\n",
      "(10000, 1)\n",
      "(10000, 1)\n",
      "(10000, 1)\n",
      "(10000, 1)\n",
      "(10000, 1)\n",
      "(10000, 1)\n",
      "(10000, 1)\n",
      "(10000, 1)\n",
      "(10000, 1)\n",
      "(10000, 1)\n",
      "(10000, 1)\n",
      "(10000, 1)\n",
      "(10000, 1)\n",
      "(10000, 1)\n",
      "(10000, 1)\n",
      "(10000, 1)\n"
     ]
    }
   ],
   "source": [
    "import sounddevice as sd\n",
    "\n",
    "last_n = []\n",
    "\n",
    "def callback(indata, outdata, frames, time, status):\n",
    "    global last_n\n",
    "    print(outdata.shape)\n",
    "    signal = np.array(ain.getSamples(outdata.shape[0])[0])\n",
    "    last_n += signal.tolist()\n",
    "    last_n = last_n[-40000:]\n",
    "    signal = signal - np.mean(np.array(last_n))\n",
    "\n",
    "    #signal = resampy.resample(signal, SAMP_RATE, AUDIO_RATE)\n",
    "    signal = signal.astype(np.float32)\n",
    "    outdata[:, 0] = signal * 3 #(signal - 2.5) / 5\n",
    "    \n",
    "with sd.Stream(channels=1, blocksize=10000, samplerate=SAMP_RATE, dtype=\"float32\", callback=callback):\n",
    "    sd.sleep(int(100000))"
   ]
  },
  {
   "cell_type": "code",
   "execution_count": 57,
   "id": "light-reception",
   "metadata": {},
   "outputs": [
    {
     "name": "stdout",
     "output_type": "stream",
     "text": [
      "Playing WAVE 'test.wav' : Float 32 bit Little Endian, Rate 44100 Hz, Mono\n"
     ]
    }
   ],
   "source": [
    "!aplay test.wav"
   ]
  },
  {
   "cell_type": "code",
   "execution_count": 53,
   "id": "smart-entertainment",
   "metadata": {},
   "outputs": [
    {
     "data": {
      "image/png": "[encoded data removed]",
      "text/plain": [
       "<Figure size 432x288 with 1 Axes>"
      ]
     },
     "metadata": {
      "needs_background": "light"
     },
     "output_type": "display_data"
    }
   ],
   "source": [
    "import matplotlib.pyplot as plt\n",
    "%matplotlib inline\n",
    "mag, freq = plt.psd(resampy.resample(signal, AUDIO_RATE, 5000), Fs=5000)"
   ]
  },
  {
   "cell_type": "code",
   "execution_count": 11,
   "id": "composed-registrar",
   "metadata": {},
   "outputs": [
    {
     "data": {
      "text/plain": [
       "array([117.1875 , 136.71875, 156.25   , 175.78125, 253.90625, 273.4375 ,\n",
       "       292.96875, 312.5    , 390.625  , 410.15625, 429.6875 , 449.21875,\n",
       "       468.75   , 527.34375, 546.875  , 566.40625])"
      ]
     },
     "execution_count": 11,
     "metadata": {},
     "output_type": "execute_result"
    }
   ],
   "source": [
    "freq[mag > 2*np.mean(mag)]"
   ]
  },
  {
   "cell_type": "code",
   "execution_count": 19,
   "id": "chubby-dialogue",
   "metadata": {},
   "outputs": [],
   "source": [
    "\n",
    "signal_keep = resampy.resample(signal, AUDIO_RATE, 7500)\n",
    "signal_keep = signal_keep.astype(np.float32)\n",
    "\n",
    "m = np.mean(signal_keep)\n",
    "sd = np.std(signal_keep)\n",
    "\n",
    "K = 10\n",
    "signal_keep[signal_keep > (m + K*sd)] = m + K*sd\n",
    "signal_keep[signal_keep < (m - K*sd)] = m - K*sd\n",
    "\n",
    "signal_keep = signal_keep / (K * sd)\n",
    "signal_keep = (signal_keep + 1.0) / 2\n",
    "signal_keep = signal_keep * 5\n",
    "\n",
    "signal_good = signal_keep[:]\n"
   ]
  },
  {
   "cell_type": "code",
   "execution_count": 20,
   "id": "medium-raise",
   "metadata": {},
   "outputs": [
    {
     "data": {
      "text/plain": [
       "[<matplotlib.lines.Line2D at 0x7f94c8a73250>]"
      ]
     },
     "execution_count": 20,
     "metadata": {},
     "output_type": "execute_result"
    },
    {
     "data": {
      "image/png": "[encoded data removed]",
      "text/plain": [
       "<Figure size 432x288 with 1 Axes>"
      ]
     },
     "metadata": {
      "needs_background": "light"
     },
     "output_type": "display_data"
    }
   ],
   "source": [
    "plt.plot(signal_keep)"
   ]
  },
  {
   "cell_type": "code",
   "execution_count": null,
   "id": "verified-solomon",
   "metadata": {},
   "outputs": [],
   "source": []
  },
  {
   "cell_type": "code",
   "execution_count": 21,
   "id": "recorded-israel",
   "metadata": {},
   "outputs": [],
   "source": [
    "wavfile.write(\"test.wav\", AUDIO_RATE, resampy.resample(signal_good, 7500, AUDIO_RATE).astype(np.float32))"
   ]
  },
  {
   "cell_type": "code",
   "execution_count": null,
   "id": "natural-aquatic",
   "metadata": {},
   "outputs": [],
   "source": [
    "\n",
    "aout.setCyclic(True)\n",
    "aout.push([np.array(0).astype(np.float64)])"
   ]
  },
  {
   "cell_type": "code",
   "execution_count": 80,
   "id": "thrown-financing",
   "metadata": {},
   "outputs": [],
   "source": [
    "import sounddevice as sd\n",
    "sd.play((signal_keep - 2.5) / 5, 7500)"
   ]
  },
  {
   "cell_type": "code",
   "execution_count": 76,
   "id": "center-japanese",
   "metadata": {},
   "outputs": [
    {
     "data": {
      "text/plain": [
       "array([5.2076507, 5.2076507, 5.2076507, ..., 2.6168666, 2.6088433,\n",
       "       2.5880172], dtype=float32)"
      ]
     },
     "execution_count": 76,
     "metadata": {},
     "output_type": "execute_result"
    }
   ],
   "source": [
    "signal_keep"
   ]
  },
  {
   "cell_type": "code",
   "execution_count": 73,
   "id": "domestic-peninsula",
   "metadata": {},
   "outputs": [
    {
     "data": {
      "text/plain": [
       "{'name': 'default',\n",
       " 'hostapi': 0,\n",
       " 'max_input_channels': 32,\n",
       " 'max_output_channels': 32,\n",
       " 'default_low_input_latency': 0.008707482993197279,\n",
       " 'default_low_output_latency': 0.008707482993197279,\n",
       " 'default_high_input_latency': 0.034829931972789115,\n",
       " 'default_high_output_latency': 0.034829931972789115,\n",
       " 'default_samplerate': 44100.0}"
      ]
     },
     "execution_count": 73,
     "metadata": {},
     "output_type": "execute_result"
    }
   ],
   "source": [
    "sd.query_devices(27, \"output\")"
   ]
  },
  {
   "cell_type": "code",
   "execution_count": 74,
   "id": "loving-affiliation",
   "metadata": {},
   "outputs": [
    {
     "ename": "NameError",
     "evalue": "name 'tone_out' is not defined",
     "output_type": "error",
     "traceback": [
      "\u001b[0;31m---------------------------------------------------------------------------\u001b[0m",
      "\u001b[0;31mNameError\u001b[0m                                 Traceback (most recent call last)",
      "\u001b[0;32m<ipython-input-74-eaee5f2c0749>\u001b[0m in \u001b[0;36m<module>\u001b[0;34m\u001b[0m\n\u001b[0;32m----> 1\u001b[0;31m \u001b[0mbytestream\u001b[0m \u001b[0;34m=\u001b[0m \u001b[0mtone_out\u001b[0m\u001b[0;34m.\u001b[0m\u001b[0mtobytes\u001b[0m\u001b[0;34m(\u001b[0m\u001b[0;34m)\u001b[0m\u001b[0;34m\u001b[0m\u001b[0;34m\u001b[0m\u001b[0m\n\u001b[0m\u001b[1;32m      2\u001b[0m \u001b[0mpya\u001b[0m \u001b[0;34m=\u001b[0m \u001b[0mpyaudio\u001b[0m\u001b[0;34m.\u001b[0m\u001b[0mPyAudio\u001b[0m\u001b[0;34m(\u001b[0m\u001b[0;34m)\u001b[0m\u001b[0;34m\u001b[0m\u001b[0;34m\u001b[0m\u001b[0m\n\u001b[1;32m      3\u001b[0m \u001b[0mstream\u001b[0m \u001b[0;34m=\u001b[0m \u001b[0mpya\u001b[0m\u001b[0;34m.\u001b[0m\u001b[0mopen\u001b[0m\u001b[0;34m(\u001b[0m\u001b[0mformat\u001b[0m\u001b[0;34m=\u001b[0m\u001b[0mpya\u001b[0m\u001b[0;34m.\u001b[0m\u001b[0mget_format_from_width\u001b[0m\u001b[0;34m(\u001b[0m\u001b[0mwidth\u001b[0m\u001b[0;34m=\u001b[0m\u001b[0;36m2\u001b[0m\u001b[0;34m)\u001b[0m\u001b[0;34m,\u001b[0m \u001b[0mchannels\u001b[0m\u001b[0;34m=\u001b[0m\u001b[0;36m1\u001b[0m\u001b[0;34m,\u001b[0m \u001b[0mrate\u001b[0m\u001b[0;34m=\u001b[0m\u001b[0mOUTPUT_SAMPLE_RATE\u001b[0m\u001b[0;34m,\u001b[0m \u001b[0moutput\u001b[0m\u001b[0;34m=\u001b[0m\u001b[0;32mTrue\u001b[0m\u001b[0;34m)\u001b[0m\u001b[0;34m\u001b[0m\u001b[0;34m\u001b[0m\u001b[0m\n\u001b[1;32m      4\u001b[0m \u001b[0mstream\u001b[0m\u001b[0;34m.\u001b[0m\u001b[0mwrite\u001b[0m\u001b[0;34m(\u001b[0m\u001b[0mbytestream\u001b[0m\u001b[0;34m)\u001b[0m\u001b[0;34m\u001b[0m\u001b[0;34m\u001b[0m\u001b[0m\n\u001b[1;32m      5\u001b[0m \u001b[0mstream\u001b[0m\u001b[0;34m.\u001b[0m\u001b[0mstop_stream\u001b[0m\u001b[0;34m(\u001b[0m\u001b[0;34m)\u001b[0m\u001b[0;34m\u001b[0m\u001b[0;34m\u001b[0m\u001b[0m\n",
      "\u001b[0;31mNameError\u001b[0m: name 'tone_out' is not defined"
     ]
    }
   ],
   "source": [
    "tone_out = signal_good * 2500\n",
    "bytestream = tone_out.tobytes()\n",
    "pya = pyaudio.PyAudio()\n",
    "stream = pya.open(format=pya.get_format_from_width(width=2), channels=1, rate=OUTPUT_SAMPLE_RATE, output=True)\n",
    "stream.write(bytestream)\n",
    "stream.stop_stream()\n",
    "stream.close()"
   ]
  },
  {
   "cell_type": "code",
   "execution_count": null,
   "id": "premium-population",
   "metadata": {},
   "outputs": [],
   "source": []
  }
 ],
 "metadata": {
  "kernelspec": {
   "display_name": "Python 3",
   "language": "python",
   "name": "python3"
  },
  "language_info": {
   "codemirror_mode": {
    "name": "ipython",
    "version": 3
   },
   "file_extension": ".py",
   "mimetype": "text/x-python",
   "name": "python",
   "nbconvert_exporter": "python",
   "pygments_lexer": "ipython3",
   "version": "3.8.10"
  }
 },
 "nbformat": 4,
 "nbformat_minor": 5
}
